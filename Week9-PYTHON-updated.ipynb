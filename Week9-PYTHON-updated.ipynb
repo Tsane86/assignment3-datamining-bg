{
 "cells": [
  {
   "cell_type": "markdown",
   "metadata": {},
   "source": [
    "# Ensemble classifiers and Random Forest in particular\n",
    "\n",
    "This week we'll look at some of the ensemble classifiers in scikit-learn.\n",
    "\n",
    "We're going to train a RandomForestClassifier and an AdaBoost classifier. The first is a bagging classifier and the other is a boosted classifier.\n",
    "\n",
    "First off, let's import the packages we want and load the data file as we have done previously. Then we'll take a look with `head()` to see if it looks ok.\n",
    "\n",
    "**Remember to change `DATAFILE` below**"
   ]
  },
  {
   "cell_type": "code",
   "execution_count": 3,
   "metadata": {},
   "outputs": [],
   "source": [
    "import sklearn as sk\n",
    "import pandas as pd\n",
    "\n",
    "# Set random seed for reproducing results\n",
    "import numpy as np\n",
    "np.random.seed(422)\n",
    "\n",
    "DATAFILE = './iris.csv'\n",
    "iris = pd.read_csv(DATAFILE)"
   ]
  },
  {
   "cell_type": "code",
   "execution_count": 4,
   "metadata": {},
   "outputs": [
    {
     "data": {
      "text/html": [
       "<div>\n",
       "<style scoped>\n",
       "    .dataframe tbody tr th:only-of-type {\n",
       "        vertical-align: middle;\n",
       "    }\n",
       "\n",
       "    .dataframe tbody tr th {\n",
       "        vertical-align: top;\n",
       "    }\n",
       "\n",
       "    .dataframe thead th {\n",
       "        text-align: right;\n",
       "    }\n",
       "</style>\n",
       "<table border=\"1\" class=\"dataframe\">\n",
       "  <thead>\n",
       "    <tr style=\"text-align: right;\">\n",
       "      <th></th>\n",
       "      <th>Row</th>\n",
       "      <th>Sepal.Length</th>\n",
       "      <th>Sepal.Width</th>\n",
       "      <th>Petal.Length</th>\n",
       "      <th>Petal.Width</th>\n",
       "      <th>Species</th>\n",
       "    </tr>\n",
       "  </thead>\n",
       "  <tbody>\n",
       "    <tr>\n",
       "      <th>0</th>\n",
       "      <td>1</td>\n",
       "      <td>5.1</td>\n",
       "      <td>3.5</td>\n",
       "      <td>1.4</td>\n",
       "      <td>0.2</td>\n",
       "      <td>setosa</td>\n",
       "    </tr>\n",
       "    <tr>\n",
       "      <th>1</th>\n",
       "      <td>2</td>\n",
       "      <td>4.9</td>\n",
       "      <td>3.0</td>\n",
       "      <td>1.4</td>\n",
       "      <td>0.2</td>\n",
       "      <td>setosa</td>\n",
       "    </tr>\n",
       "    <tr>\n",
       "      <th>2</th>\n",
       "      <td>3</td>\n",
       "      <td>4.7</td>\n",
       "      <td>3.2</td>\n",
       "      <td>1.3</td>\n",
       "      <td>0.2</td>\n",
       "      <td>setosa</td>\n",
       "    </tr>\n",
       "    <tr>\n",
       "      <th>3</th>\n",
       "      <td>4</td>\n",
       "      <td>4.6</td>\n",
       "      <td>3.1</td>\n",
       "      <td>1.5</td>\n",
       "      <td>0.2</td>\n",
       "      <td>setosa</td>\n",
       "    </tr>\n",
       "    <tr>\n",
       "      <th>4</th>\n",
       "      <td>5</td>\n",
       "      <td>5.0</td>\n",
       "      <td>3.6</td>\n",
       "      <td>1.4</td>\n",
       "      <td>0.2</td>\n",
       "      <td>setosa</td>\n",
       "    </tr>\n",
       "  </tbody>\n",
       "</table>\n",
       "</div>"
      ],
      "text/plain": [
       "   Row  Sepal.Length  Sepal.Width  Petal.Length  Petal.Width Species\n",
       "0    1           5.1          3.5           1.4          0.2  setosa\n",
       "1    2           4.9          3.0           1.4          0.2  setosa\n",
       "2    3           4.7          3.2           1.3          0.2  setosa\n",
       "3    4           4.6          3.1           1.5          0.2  setosa\n",
       "4    5           5.0          3.6           1.4          0.2  setosa"
      ]
     },
     "execution_count": 4,
     "metadata": {},
     "output_type": "execute_result"
    }
   ],
   "source": [
    "iris.head()"
   ]
  },
  {
   "cell_type": "markdown",
   "metadata": {},
   "source": [
    "Let's now split the data into an `X` and `y` and then create a training and test split."
   ]
  },
  {
   "cell_type": "code",
   "execution_count": 5,
   "metadata": {},
   "outputs": [],
   "source": [
    "# Make the target numeric, and create training and test sets.\n",
    "targets = iris['Species'].unique()\n",
    "target2code = dict(zip(targets, range(len(targets))))\n",
    "\n",
    "X = iris.drop(['Row', 'Species'], axis=1).values # strip off the row number and target, and convert to numpy\n",
    "\n",
    "\n",
    "# Many ways of changing the labels to numbers, we'll use one from Pandas\n",
    "iris['Species'] = pd.Categorical(iris['Species']) # Convert the column to 'categorical' data type\n",
    "y = iris['Species'].cat.codes.values # Retrieve a numpy array of the numerical codes\n",
    "\n"
   ]
  },
  {
   "cell_type": "code",
   "execution_count": 7,
   "metadata": {},
   "outputs": [
    {
     "name": "stdout",
     "output_type": "stream",
     "text": [
      "X_train: (105, 4)\n",
      "y_train: (105,)\n",
      "X_test: (45, 4)\n",
      "y_test: (45,)\n"
     ]
    }
   ],
   "source": [
    "# Now split these into a training / test split\n",
    "from sklearn.model_selection import train_test_split\n",
    "X_train, X_test, y_train, y_test = train_test_split(X, y, test_size=0.3)\n",
    "\n",
    "print('X_train:', X_train.shape)\n",
    "print('y_train:', y_train.shape)\n",
    "print('X_test:', X_test.shape)\n",
    "print('y_test:', y_test.shape)"
   ]
  },
  {
   "cell_type": "markdown",
   "metadata": {},
   "source": [
    "# Ensemble classifiers\n",
    "\n",
    "There are several variants in scikit-learn. You can read about them here: https://scikit-learn.org/stable/modules/ensemble.html\n",
    "\n",
    "They split into bagged vs boosted ensembles. Let's look at two variants:\n",
    "* bagged decision trees - or random forests\n",
    "* boosted decision trees - or AdaBoost\n",
    "\n",
    "First we're going to use `sklearn.ensemble.RandomForestClassifier` because we want to do classification. We'll mostly just use the default parameters and then `fit` the data to the classifier. However, do look at the web page and have a play around.\n",
    "\n",
    "Some attributes to pass to the classifier of interest are:\n",
    "* `n_estimators` is the number of trees to build\n",
    "* `max_features` controls the number of attributes to select from in each tree\n",
    "* `oob_score=True` will get the classifier to calculate the out of bag score\n",
    "* `class_weights` controls how to deal with unbalanced datasets\n"
   ]
  },
  {
   "cell_type": "code",
   "execution_count": 9,
   "metadata": {},
   "outputs": [
    {
     "data": {
      "text/html": [
       "<style>#sk-container-id-2 {color: black;background-color: white;}#sk-container-id-2 pre{padding: 0;}#sk-container-id-2 div.sk-toggleable {background-color: white;}#sk-container-id-2 label.sk-toggleable__label {cursor: pointer;display: block;width: 100%;margin-bottom: 0;padding: 0.3em;box-sizing: border-box;text-align: center;}#sk-container-id-2 label.sk-toggleable__label-arrow:before {content: \"▸\";float: left;margin-right: 0.25em;color: #696969;}#sk-container-id-2 label.sk-toggleable__label-arrow:hover:before {color: black;}#sk-container-id-2 div.sk-estimator:hover label.sk-toggleable__label-arrow:before {color: black;}#sk-container-id-2 div.sk-toggleable__content {max-height: 0;max-width: 0;overflow: hidden;text-align: left;background-color: #f0f8ff;}#sk-container-id-2 div.sk-toggleable__content pre {margin: 0.2em;color: black;border-radius: 0.25em;background-color: #f0f8ff;}#sk-container-id-2 input.sk-toggleable__control:checked~div.sk-toggleable__content {max-height: 200px;max-width: 100%;overflow: auto;}#sk-container-id-2 input.sk-toggleable__control:checked~label.sk-toggleable__label-arrow:before {content: \"▾\";}#sk-container-id-2 div.sk-estimator input.sk-toggleable__control:checked~label.sk-toggleable__label {background-color: #d4ebff;}#sk-container-id-2 div.sk-label input.sk-toggleable__control:checked~label.sk-toggleable__label {background-color: #d4ebff;}#sk-container-id-2 input.sk-hidden--visually {border: 0;clip: rect(1px 1px 1px 1px);clip: rect(1px, 1px, 1px, 1px);height: 1px;margin: -1px;overflow: hidden;padding: 0;position: absolute;width: 1px;}#sk-container-id-2 div.sk-estimator {font-family: monospace;background-color: #f0f8ff;border: 1px dotted black;border-radius: 0.25em;box-sizing: border-box;margin-bottom: 0.5em;}#sk-container-id-2 div.sk-estimator:hover {background-color: #d4ebff;}#sk-container-id-2 div.sk-parallel-item::after {content: \"\";width: 100%;border-bottom: 1px solid gray;flex-grow: 1;}#sk-container-id-2 div.sk-label:hover label.sk-toggleable__label {background-color: #d4ebff;}#sk-container-id-2 div.sk-serial::before {content: \"\";position: absolute;border-left: 1px solid gray;box-sizing: border-box;top: 0;bottom: 0;left: 50%;z-index: 0;}#sk-container-id-2 div.sk-serial {display: flex;flex-direction: column;align-items: center;background-color: white;padding-right: 0.2em;padding-left: 0.2em;position: relative;}#sk-container-id-2 div.sk-item {position: relative;z-index: 1;}#sk-container-id-2 div.sk-parallel {display: flex;align-items: stretch;justify-content: center;background-color: white;position: relative;}#sk-container-id-2 div.sk-item::before, #sk-container-id-2 div.sk-parallel-item::before {content: \"\";position: absolute;border-left: 1px solid gray;box-sizing: border-box;top: 0;bottom: 0;left: 50%;z-index: -1;}#sk-container-id-2 div.sk-parallel-item {display: flex;flex-direction: column;z-index: 1;position: relative;background-color: white;}#sk-container-id-2 div.sk-parallel-item:first-child::after {align-self: flex-end;width: 50%;}#sk-container-id-2 div.sk-parallel-item:last-child::after {align-self: flex-start;width: 50%;}#sk-container-id-2 div.sk-parallel-item:only-child::after {width: 0;}#sk-container-id-2 div.sk-dashed-wrapped {border: 1px dashed gray;margin: 0 0.4em 0.5em 0.4em;box-sizing: border-box;padding-bottom: 0.4em;background-color: white;}#sk-container-id-2 div.sk-label label {font-family: monospace;font-weight: bold;display: inline-block;line-height: 1.2em;}#sk-container-id-2 div.sk-label-container {text-align: center;}#sk-container-id-2 div.sk-container {/* jupyter's `normalize.less` sets `[hidden] { display: none; }` but bootstrap.min.css set `[hidden] { display: none !important; }` so we also need the `!important` here to be able to override the default hidden behavior on the sphinx rendered scikit-learn.org. See: https://github.com/scikit-learn/scikit-learn/issues/21755 */display: inline-block !important;position: relative;}#sk-container-id-2 div.sk-text-repr-fallback {display: none;}</style><div id=\"sk-container-id-2\" class=\"sk-top-container\"><div class=\"sk-text-repr-fallback\"><pre>RandomForestClassifier(n_estimators=50, oob_score=True)</pre><b>In a Jupyter environment, please rerun this cell to show the HTML representation or trust the notebook. <br />On GitHub, the HTML representation is unable to render, please try loading this page with nbviewer.org.</b></div><div class=\"sk-container\" hidden><div class=\"sk-item\"><div class=\"sk-estimator sk-toggleable\"><input class=\"sk-toggleable__control sk-hidden--visually\" id=\"sk-estimator-id-2\" type=\"checkbox\" checked><label for=\"sk-estimator-id-2\" class=\"sk-toggleable__label sk-toggleable__label-arrow\">RandomForestClassifier</label><div class=\"sk-toggleable__content\"><pre>RandomForestClassifier(n_estimators=50, oob_score=True)</pre></div></div></div></div></div>"
      ],
      "text/plain": [
       "RandomForestClassifier(n_estimators=50, oob_score=True)"
      ]
     },
     "execution_count": 9,
     "metadata": {},
     "output_type": "execute_result"
    }
   ],
   "source": [
    "from sklearn.ensemble import RandomForestClassifier\n",
    "\n",
    "# Construct a random forest classifier.\n",
    "clf = RandomForestClassifier(n_estimators = 50, oob_score=True)\n",
    "clf.fit(X_train, y_train)"
   ]
  },
  {
   "cell_type": "code",
   "execution_count": 10,
   "metadata": {},
   "outputs": [
    {
     "name": "stdout",
     "output_type": "stream",
     "text": [
      "RandomForestClassifier(n_estimators=50, oob_score=True)\n",
      "Feature importances are: [0.07032588 0.01996717 0.54609346 0.36361349]\n",
      "oob score is 0.962\n",
      "Testing point 20 ; predicted as 0 ; actually 0 ; probabilities [1. 0. 0.]\n"
     ]
    }
   ],
   "source": [
    "# We can print the classifier like this.\n",
    "print(clf)\n",
    "\n",
    "# The feature impartances can be accessed\n",
    "print(\"Feature importances are:\", clf.feature_importances_)\n",
    "\n",
    "# oob score\n",
    "print(\"oob score is {:.3f}\".format(clf.oob_score_))\n",
    "\n",
    "# Let's look at one specific prediction.\n",
    "test_idx = 20\n",
    "test_point = X_test[test_idx]\n",
    "\n",
    "pred_test = clf.predict([test_point])\n",
    "pred_test_probs = clf.predict_proba([test_point])\n",
    "\n",
    "print(\"Testing point\", test_idx, \"; predicted as\", pred_test[0],\n",
    "      \"; actually\", y_test[test_idx], \"; probabilities\", pred_test_probs[0])"
   ]
  },
  {
   "cell_type": "markdown",
   "metadata": {},
   "source": [
    "Like we did last week, let's make predictions for the test partition, print the classification report and the confusion matrix."
   ]
  },
  {
   "cell_type": "code",
   "execution_count": 11,
   "metadata": {},
   "outputs": [
    {
     "name": "stdout",
     "output_type": "stream",
     "text": [
      "              precision    recall  f1-score   support\n",
      "\n",
      "           0       1.00      1.00      1.00        17\n",
      "           1       0.87      0.93      0.90        14\n",
      "           2       0.92      0.86      0.89        14\n",
      "\n",
      "    accuracy                           0.93        45\n",
      "   macro avg       0.93      0.93      0.93        45\n",
      "weighted avg       0.93      0.93      0.93        45\n",
      "\n"
     ]
    },
    {
     "data": {
      "image/png": "[encoded data removed]",
      "text/plain": [
       "<Figure size 432x288 with 2 Axes>"
      ]
     },
     "metadata": {
      "needs_background": "light"
     },
     "output_type": "display_data"
    }
   ],
   "source": [
    "y_pred = clf.predict(X_test)\n",
    "\n",
    "# Confusion matrix\n",
    "\n",
    "from sklearn.metrics import ConfusionMatrixDisplay, confusion_matrix, classification_report\n",
    "\n",
    "print(classification_report(y_test, y_pred))\n",
    "\n",
    "preds = clf.predict(X_test)\n",
    "\n",
    "cm = confusion_matrix(y_test, preds, labels=clf.classes_)\n",
    "disp = ConfusionMatrixDisplay(confusion_matrix=cm, display_labels=clf.classes_)\n",
    "disp.plot();\n"
   ]
  },
  {
   "cell_type": "markdown",
   "metadata": {},
   "source": [
    "Finally, let's plot the ROC curve and work out the AUC value.\n",
    "\n",
    "Because `iris` is a multi-class problem it's a bit trickier. We're goint to try to plot an ROC curve for each class (one vs the rest). First we need to work out the probabilities for the classes for each test point.\n",
    "\n",
    "Then we use the `roc_auc_score` function to work out the AUC value.\n",
    "\n",
    "Plotting the ROC curve is a bit more cumbersome. We need to loop over each class and then use the `roc_curve` function to return the TPRs and FPRs corresponding to a set of decision thresholds for that class vs the rest."
   ]
  },
  {
   "cell_type": "code",
   "execution_count": 13,
   "metadata": {},
   "outputs": [
    {
     "name": "stdout",
     "output_type": "stream",
     "text": [
      "The AUC is 0.989\n"
     ]
    },
    {
     "data": {
      "image/png": "[encoded data removed]",
      "text/plain": [
       "<Figure size 432x288 with 1 Axes>"
      ]
     },
     "metadata": {
      "needs_background": "light"
     },
     "output_type": "display_data"
    }
   ],
   "source": [
    "from sklearn.metrics import roc_curve, roc_auc_score\n",
    "\n",
    "# Get the probabilities of each class.\n",
    "y_probs = clf.predict_proba(X_test)\n",
    "\n",
    "# The AUC score needs to be handled differently to get one number out of the three classes.\n",
    "# We're going to average it over the three classes (one vs rest) weighted by the size of each\n",
    "# class. The help gives the other option: ovo.\n",
    "#auc = roc_auc_score(y_test, y_probs_class_1, multi_class=\"ovo\", average=\"weighted\")\n",
    "auc = roc_auc_score(y_test, y_probs, multi_class=\"ovr\", average=\"weighted\")\n",
    "print('The AUC is %.3f' % auc)\n",
    "\n",
    "# Now let's plot the ROC curve.\n",
    "import matplotlib.pyplot as plt\n",
    "plt.figure()\n",
    "col = { 0: \"red\", 1: \"blue\", 2:\"darkorange\"} # colour for each class\n",
    "lw = 2 # the line width\n",
    "# draw a line for each class (as the positive class)\n",
    "for pos in range(3):\n",
    "    fpr, tpr, thresholds = roc_curve(y_test, y_probs[:,pos], pos_label=pos)\n",
    "    plt.plot(fpr, tpr, color=col[pos], lw=lw, label='%d' % pos, alpha=0.85)\n",
    "\n",
    "plt.plot([0, 1], [0, 1], color='navy', lw=lw, linestyle='--') # The dashed line for random choice\n",
    "plt.xlim([0.0, 1.0])\n",
    "plt.ylim([0.0, 1.05])\n",
    "plt.xlabel('False Positive Rate')\n",
    "plt.ylabel('True Positive Rate')\n",
    "plt.title('Receiver Operating Characteristic')\n",
    "plt.legend(loc=\"lower right\")\n",
    "plt.show()"
   ]
  },
  {
   "cell_type": "markdown",
   "metadata": {},
   "source": [
    "# Evaluating with Cross Validation\n",
    "\n",
    "Another popular and effective method of evaluating models is through \"cross validation\" (see https://scikit-learn.org/stable/modules/cross_validation.html for a full rundown of cross validation in sklearn).\n",
    "\n",
    "<img src=https://scikit-learn.org/stable/_images/grid_search_cross_validation.png width=500>"
   ]
  },
  {
   "cell_type": "code",
   "execution_count": 9,
   "metadata": {},
   "outputs": [
    {
     "name": "stdout",
     "output_type": "stream",
     "text": [
      "~~~~~~~~~~~~~~~~~~~~~~~~~~~~~~~~~~~~~~~~~~~~~~~~~~\n",
      "TRAINING ROW INDICES:\n",
      "[  0   1   2   3   4   5   6   7  10  11  12  13  18  19  21  22  23  24\n",
      "  25  26  27  29  30  32  35  36  37  38  39  42  43  44  46  47  49  50\n",
      "  51  52  53  54  55  56  57  58  59  60  61  62  63  64  67  69  70  71\n",
      "  72  73  74  75  76  77  78  79  81  82  83  84  85  86  87  88  89  90\n",
      "  91  92  93  94  95  96  98  99 100 101 102 103]\n",
      "TEST ROW INDICES:\n",
      "[  8   9  14  15  16  17  20  28  31  33  34  40  41  45  48  65  66  68\n",
      "  80  97 104]\n",
      "~~~~~~~~~~~~~~~~~~~~~~~~~~~~~~~~~~~~~~~~~~~~~~~~~~~~~~~~~~~~~~~~~~~~~~~~~~~~~~~~\n",
      "Accuracy score for fold 0: 0.8095238095238095\n",
      "0.8095238095238095\n",
      "~~~~~~~~~~~~~~~~~~~~~~~~~~~~~~~~~~~~~~~~~~~~~~~~~~~~~~~~~~~~~~~~~~~~~~~~~~~~~~~~\n",
      "TRAINING ROW INDICES:\n",
      "[  0   1   4   5   6   7   8   9  10  12  13  14  15  16  17  20  22  23\n",
      "  24  25  26  27  28  29  30  31  32  33  34  35  36  37  38  40  41  43\n",
      "  44  45  46  48  49  50  51  52  53  54  55  56  57  58  59  60  62  65\n",
      "  66  67  68  69  70  71  72  73  74  75  76  79  80  81  82  83  85  86\n",
      "  89  90  92  94  96  97  98  99 100 101 103 104]\n",
      "TEST ROW INDICES:\n",
      "[  2   3  11  18  19  21  39  42  47  61  63  64  77  78  84  87  88  91\n",
      "  93  95 102]\n",
      "~~~~~~~~~~~~~~~~~~~~~~~~~~~~~~~~~~~~~~~~~~~~~~~~~~~~~~~~~~~~~~~~~~~~~~~~~~~~~~~~\n",
      "Accuracy score for fold 1: 0.9047619047619048\n",
      "0.9047619047619048\n",
      "~~~~~~~~~~~~~~~~~~~~~~~~~~~~~~~~~~~~~~~~~~~~~~~~~~~~~~~~~~~~~~~~~~~~~~~~~~~~~~~~\n",
      "TRAINING ROW INDICES:\n",
      "[  1   2   3   4   5   8   9  10  11  13  14  15  16  17  18  19  20  21\n",
      "  22  24  27  28  30  31  32  33  34  35  37  38  39  40  41  42  44  45\n",
      "  46  47  48  49  53  54  55  56  57  58  59  60  61  63  64  65  66  67\n",
      "  68  73  74  75  76  77  78  79  80  81  82  84  86  87  88  89  90  91\n",
      "  92  93  94  95  96  97  98  99 101 102 103 104]\n",
      "TEST ROW INDICES:\n",
      "[  0   6   7  12  23  25  26  29  36  43  50  51  52  62  69  70  71  72\n",
      "  83  85 100]\n",
      "~~~~~~~~~~~~~~~~~~~~~~~~~~~~~~~~~~~~~~~~~~~~~~~~~~~~~~~~~~~~~~~~~~~~~~~~~~~~~~~~\n",
      "Accuracy score for fold 2: 1.0\n",
      "1.0\n",
      "~~~~~~~~~~~~~~~~~~~~~~~~~~~~~~~~~~~~~~~~~~~~~~~~~~~~~~~~~~~~~~~~~~~~~~~~~~~~~~~~\n",
      "TRAINING ROW INDICES:\n",
      "[  0   1   2   3   4   5   6   7   8   9  11  12  14  15  16  17  18  19\n",
      "  20  21  23  24  25  26  28  29  31  33  34  36  39  40  41  42  43  44\n",
      "  45  46  47  48  50  51  52  54  55  56  58  59  60  61  62  63  64  65\n",
      "  66  67  68  69  70  71  72  73  74  75  76  77  78  79  80  83  84  85\n",
      "  87  88  91  92  93  95  97  99 100 102 103 104]\n",
      "TEST ROW INDICES:\n",
      "[ 10  13  22  27  30  32  35  37  38  49  53  57  81  82  86  89  90  94\n",
      "  96  98 101]\n",
      "~~~~~~~~~~~~~~~~~~~~~~~~~~~~~~~~~~~~~~~~~~~~~~~~~~~~~~~~~~~~~~~~~~~~~~~~~~~~~~~~\n",
      "Accuracy score for fold 3: 1.0\n",
      "1.0\n",
      "~~~~~~~~~~~~~~~~~~~~~~~~~~~~~~~~~~~~~~~~~~~~~~~~~~~~~~~~~~~~~~~~~~~~~~~~~~~~~~~~\n",
      "TRAINING ROW INDICES:\n",
      "[  0   2   3   6   7   8   9  10  11  12  13  14  15  16  17  18  19  20\n",
      "  21  22  23  25  26  27  28  29  30  31  32  33  34  35  36  37  38  39\n",
      "  40  41  42  43  45  47  48  49  50  51  52  53  57  61  62  63  64  65\n",
      "  66  68  69  70  71  72  77  78  80  81  82  83  84  85  86  87  88  89\n",
      "  90  91  93  94  95  96  97  98 100 101 102 104]\n",
      "TEST ROW INDICES:\n",
      "[  1   4   5  24  44  46  54  55  56  58  59  60  67  73  74  75  76  79\n",
      "  92  99 103]\n",
      "~~~~~~~~~~~~~~~~~~~~~~~~~~~~~~~~~~~~~~~~~~~~~~~~~~~~~~~~~~~~~~~~~~~~~~~~~~~~~~~~\n",
      "Accuracy score for fold 4: 0.9523809523809523\n",
      "0.9523809523809523\n",
      "~~~~~~~~~~~~~~~~~~~~~~~~~~~~~~~~~~~~~~~~~~~~~~~~~~~~~~~~~~~~~~~~~~~~~~~~~~~~~~~~\n"
     ]
    }
   ],
   "source": [
    "from sklearn.model_selection import KFold\n",
    "kf = KFold(n_splits=5, shuffle=True)\n",
    "kf.get_n_splits(X_train)\n",
    "print(\"~\"*50)\n",
    "for i, (train_index, test_index) in enumerate(kf.split(X_train)):\n",
    "    print(f\"TRAINING ROW INDICES:\\n{train_index}\\nTEST ROW INDICES:\\n{test_index}\")\n",
    "    print(\"~\"*80)\n",
    "    clf.fit(X_train[train_index], y_train[train_index])\n",
    "    kf_preds = clf.predict(X_train[test_index])\n",
    "    kf_score = clf.score(X_train[test_index], y_train[test_index].reshape(-1, 1))\n",
    "    print(f\"Accuracy score for fold {i}: {kf_score}\")\n",
    "    print(clf.score(X_train[test_index], y_train[test_index].reshape(-1, 1)))\n",
    "    print(\"~\"*80)\n"
   ]
  },
  {
   "cell_type": "markdown",
   "metadata": {},
   "source": [
    "Or, the much easier way!"
   ]
  },
  {
   "cell_type": "code",
   "execution_count": 15,
   "metadata": {},
   "outputs": [
    {
     "data": {
      "text/plain": [
       "{'fit_time': array([0.04936981, 0.03124475, 0.02579618, 0.02445698, 0.02561378]),\n",
       " 'score_time': array([0.002424  , 0.00161815, 0.00146103, 0.00137424, 0.00146723]),\n",
       " 'test_score': array([1.        , 1.        , 1.        , 0.85714286, 0.95238095]),\n",
       " 'train_score': array([1., 1., 1., 1., 1.])}"
      ]
     },
     "execution_count": 15,
     "metadata": {},
     "output_type": "execute_result"
    }
   ],
   "source": [
    "from sklearn.model_selection import cross_val_score, cross_validate\n",
    "scores = cross_validate(clf, X_train, y_train, cv=5,\n",
    "                        scoring=('accuracy'),\n",
    "                        return_train_score=True)\n",
    "scores"
   ]
  },
  {
   "cell_type": "markdown",
   "metadata": {},
   "source": [
    "Now let's train an AdaBoost classifier. Details on the classifier are at: https://scikit-learn.org/stable/modules/ensemble.html#adaboost\n",
    "\n",
    "By default it makes an ensemble of decision stumps. We can set the number of trees in the ensemble using the `n_estimators` option. "
   ]
  },
  {
   "cell_type": "code",
   "execution_count": 16,
   "metadata": {},
   "outputs": [
    {
     "name": "stdout",
     "output_type": "stream",
     "text": [
      "              precision    recall  f1-score   support\n",
      "\n",
      "           0       1.00      1.00      1.00        17\n",
      "           1       0.81      0.93      0.87        14\n",
      "           2       0.92      0.79      0.85        14\n",
      "\n",
      "    accuracy                           0.91        45\n",
      "   macro avg       0.91      0.90      0.90        45\n",
      "weighted avg       0.92      0.91      0.91        45\n",
      "\n",
      "Feature importances are: [0.  0.  0.4 0.6]\n"
     ]
    },
    {
     "data": {
      "image/png": "[encoded data removed]",
      "text/plain": [
       "<Figure size 432x288 with 2 Axes>"
      ]
     },
     "metadata": {
      "needs_background": "light"
     },
     "output_type": "display_data"
    }
   ],
   "source": [
    "from sklearn.ensemble import AdaBoostClassifier\n",
    "\n",
    "# Construct an AdaBoost classifier. 10 classifiers would be a very small number. 100+ is more\n",
    "# typical.\n",
    "clf = AdaBoostClassifier(n_estimators=10)\n",
    "clf.fit(X_train, y_train)\n",
    "\n",
    "y_pred = clf.predict(X_test)\n",
    "\n",
    "# Output the performance\n",
    "from sklearn.metrics import confusion_matrix, plot_confusion_matrix, classification_report\n",
    "print(classification_report(y_test, y_pred))\n",
    "\n",
    "# The feature importances can be accessed\n",
    "print(\"Feature importances are:\", clf.feature_importances_)\n",
    "\n",
    "preds = clf.predict(X_test)\n",
    "\n",
    "cm = confusion_matrix(y_test, preds, labels=clf.classes_)\n",
    "disp = ConfusionMatrixDisplay(confusion_matrix=cm, display_labels=clf.classes_)\n",
    "disp.plot();\n"
   ]
  },
  {
   "cell_type": "code",
   "execution_count": 17,
   "metadata": {
    "scrolled": true
   },
   "outputs": [
    {
     "data": {
      "text/plain": [
       "{'fit_time': array([0.0182569 , 0.00648403, 0.00542116, 0.00566387, 0.00575686]),\n",
       " 'score_time': array([0.00067115, 0.000633  , 0.0007751 , 0.00062513, 0.00060916]),\n",
       " 'test_score': array([1.        , 0.95238095, 1.        , 0.85714286, 0.95238095]),\n",
       " 'train_score': array([0.98809524, 0.96428571, 0.98809524, 1.        , 0.96428571])}"
      ]
     },
     "execution_count": 17,
     "metadata": {},
     "output_type": "execute_result"
    }
   ],
   "source": [
    "scores = cross_validate(clf, X_train, y_train, cv=5,\n",
    "                        scoring=('accuracy'),\n",
    "                        return_train_score=True)\n",
    "scores"
   ]
  },
  {
   "cell_type": "markdown",
   "metadata": {},
   "source": [
    "# Parameter Optimisation"
   ]
  },
  {
   "cell_type": "markdown",
   "metadata": {},
   "source": [
    "We can also perform some paramter optimisation in Python, here we'll use KNN for simplicity's sake (we can get away with only considering one parameter for knn, the `n_neighbors`).\n",
    "Optimisation is fairly resource intensive, and many approaches exist; for a more comprehensive rundown see https://scikit-learn.org/stable/modules/grid_search.html"
   ]
  },
  {
   "cell_type": "code",
   "execution_count": 19,
   "metadata": {},
   "outputs": [],
   "source": [
    "from sklearn.neighbors import KNeighborsClassifier\n",
    "from sklearn.model_selection import GridSearchCV\n",
    "\n",
    "param_grid = [\n",
    "  {'n_estimators': [50, 100, 150, 7,9,]}\n",
    " ]\n",
    "knn = KNeighborsClassifier()\n",
    "clf = GridSearchCV(knn, param_grid)\n",
    "clf.fit(X_train, y_train);"
   ]
  },
  {
   "cell_type": "code",
   "execution_count": 20,
   "metadata": {},
   "outputs": [
    {
     "data": {
      "text/html": [
       "<div>\n",
       "<style scoped>\n",
       "    .dataframe tbody tr th:only-of-type {\n",
       "        vertical-align: middle;\n",
       "    }\n",
       "\n",
       "    .dataframe tbody tr th {\n",
       "        vertical-align: top;\n",
       "    }\n",
       "\n",
       "    .dataframe thead th {\n",
       "        text-align: right;\n",
       "    }\n",
       "</style>\n",
       "<table border=\"1\" class=\"dataframe\">\n",
       "  <thead>\n",
       "    <tr style=\"text-align: right;\">\n",
       "      <th></th>\n",
       "      <th>mean_fit_time</th>\n",
       "      <th>std_fit_time</th>\n",
       "      <th>mean_score_time</th>\n",
       "      <th>std_score_time</th>\n",
       "      <th>param_n_neighbors</th>\n",
       "      <th>params</th>\n",
       "      <th>split0_test_score</th>\n",
       "      <th>split1_test_score</th>\n",
       "      <th>split2_test_score</th>\n",
       "      <th>split3_test_score</th>\n",
       "      <th>split4_test_score</th>\n",
       "      <th>mean_test_score</th>\n",
       "      <th>std_test_score</th>\n",
       "      <th>rank_test_score</th>\n",
       "    </tr>\n",
       "  </thead>\n",
       "  <tbody>\n",
       "    <tr>\n",
       "      <th>0</th>\n",
       "      <td>0.000550</td>\n",
       "      <td>0.000145</td>\n",
       "      <td>0.002718</td>\n",
       "      <td>0.000967</td>\n",
       "      <td>1</td>\n",
       "      <td>{'n_neighbors': 1}</td>\n",
       "      <td>0.952381</td>\n",
       "      <td>0.952381</td>\n",
       "      <td>1.0</td>\n",
       "      <td>0.857143</td>\n",
       "      <td>0.952381</td>\n",
       "      <td>0.942857</td>\n",
       "      <td>0.046657</td>\n",
       "      <td>5</td>\n",
       "    </tr>\n",
       "    <tr>\n",
       "      <th>1</th>\n",
       "      <td>0.000275</td>\n",
       "      <td>0.000088</td>\n",
       "      <td>0.001066</td>\n",
       "      <td>0.000369</td>\n",
       "      <td>3</td>\n",
       "      <td>{'n_neighbors': 3}</td>\n",
       "      <td>0.952381</td>\n",
       "      <td>1.000000</td>\n",
       "      <td>1.0</td>\n",
       "      <td>0.952381</td>\n",
       "      <td>0.952381</td>\n",
       "      <td>0.971429</td>\n",
       "      <td>0.023328</td>\n",
       "      <td>1</td>\n",
       "    </tr>\n",
       "    <tr>\n",
       "      <th>2</th>\n",
       "      <td>0.000170</td>\n",
       "      <td>0.000014</td>\n",
       "      <td>0.000570</td>\n",
       "      <td>0.000033</td>\n",
       "      <td>5</td>\n",
       "      <td>{'n_neighbors': 5}</td>\n",
       "      <td>1.000000</td>\n",
       "      <td>0.952381</td>\n",
       "      <td>1.0</td>\n",
       "      <td>0.952381</td>\n",
       "      <td>0.952381</td>\n",
       "      <td>0.971429</td>\n",
       "      <td>0.023328</td>\n",
       "      <td>1</td>\n",
       "    </tr>\n",
       "    <tr>\n",
       "      <th>3</th>\n",
       "      <td>0.000175</td>\n",
       "      <td>0.000036</td>\n",
       "      <td>0.000552</td>\n",
       "      <td>0.000074</td>\n",
       "      <td>7</td>\n",
       "      <td>{'n_neighbors': 7}</td>\n",
       "      <td>1.000000</td>\n",
       "      <td>0.952381</td>\n",
       "      <td>1.0</td>\n",
       "      <td>0.904762</td>\n",
       "      <td>1.000000</td>\n",
       "      <td>0.971429</td>\n",
       "      <td>0.038095</td>\n",
       "      <td>1</td>\n",
       "    </tr>\n",
       "    <tr>\n",
       "      <th>4</th>\n",
       "      <td>0.000173</td>\n",
       "      <td>0.000023</td>\n",
       "      <td>0.000548</td>\n",
       "      <td>0.000039</td>\n",
       "      <td>9</td>\n",
       "      <td>{'n_neighbors': 9}</td>\n",
       "      <td>0.952381</td>\n",
       "      <td>0.952381</td>\n",
       "      <td>1.0</td>\n",
       "      <td>0.904762</td>\n",
       "      <td>1.000000</td>\n",
       "      <td>0.961905</td>\n",
       "      <td>0.035635</td>\n",
       "      <td>4</td>\n",
       "    </tr>\n",
       "  </tbody>\n",
       "</table>\n",
       "</div>"
      ],
      "text/plain": [
       "   mean_fit_time  std_fit_time  mean_score_time  std_score_time  \\\n",
       "0       0.000550      0.000145         0.002718        0.000967   \n",
       "1       0.000275      0.000088         0.001066        0.000369   \n",
       "2       0.000170      0.000014         0.000570        0.000033   \n",
       "3       0.000175      0.000036         0.000552        0.000074   \n",
       "4       0.000173      0.000023         0.000548        0.000039   \n",
       "\n",
       "  param_n_neighbors              params  split0_test_score  split1_test_score  \\\n",
       "0                 1  {'n_neighbors': 1}           0.952381           0.952381   \n",
       "1                 3  {'n_neighbors': 3}           0.952381           1.000000   \n",
       "2                 5  {'n_neighbors': 5}           1.000000           0.952381   \n",
       "3                 7  {'n_neighbors': 7}           1.000000           0.952381   \n",
       "4                 9  {'n_neighbors': 9}           0.952381           0.952381   \n",
       "\n",
       "   split2_test_score  split3_test_score  split4_test_score  mean_test_score  \\\n",
       "0                1.0           0.857143           0.952381         0.942857   \n",
       "1                1.0           0.952381           0.952381         0.971429   \n",
       "2                1.0           0.952381           0.952381         0.971429   \n",
       "3                1.0           0.904762           1.000000         0.971429   \n",
       "4                1.0           0.904762           1.000000         0.961905   \n",
       "\n",
       "   std_test_score  rank_test_score  \n",
       "0        0.046657                5  \n",
       "1        0.023328                1  \n",
       "2        0.023328                1  \n",
       "3        0.038095                1  \n",
       "4        0.035635                4  "
      ]
     },
     "execution_count": 20,
     "metadata": {},
     "output_type": "execute_result"
    }
   ],
   "source": [
    "pd.DataFrame(clf.cv_results_)"
   ]
  },
  {
   "cell_type": "code",
   "execution_count": 21,
   "metadata": {},
   "outputs": [
    {
     "data": {
      "text/plain": [
       "{'n_neighbors': 3}"
      ]
     },
     "execution_count": 21,
     "metadata": {},
     "output_type": "execute_result"
    }
   ],
   "source": [
    "clf.best_params_"
   ]
  },
  {
   "cell_type": "code",
   "execution_count": null,
   "metadata": {},
   "outputs": [],
   "source": []
  }
 ],
 "metadata": {
  "kernelspec": {
   "display_name": "Python 3 (ipykernel)",
   "language": "python",
   "name": "python3"
  },
  "language_info": {
   "codemirror_mode": {
    "name": "ipython",
    "version": 3
   },
   "file_extension": ".py",
   "mimetype": "text/x-python",
   "name": "python",
   "nbconvert_exporter": "python",
   "pygments_lexer": "ipython3",
   "version": "3.10.5"
  }
 },
 "nbformat": 4,
 "nbformat_minor": 4
}
